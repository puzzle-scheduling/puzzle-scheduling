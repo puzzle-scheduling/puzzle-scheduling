{
 "cells": [
  {
   "attachments": {},
   "cell_type": "markdown",
   "id": "88a31059",
   "metadata": {},
   "source": [
    "# 2. Data Cleaning\n"
   ]
  },
  {
   "cell_type": "code",
   "execution_count": 40,
   "id": "a30a20db",
   "metadata": {
    "tags": [
     "remove_input"
    ]
   },
   "outputs": [],
   "source": [
    "# Importing Libraries\n",
    "import pandas as pd\n",
    "import numpy as np\n",
    "import matplotlib.pyplot as plt\n",
    "import seaborn as sns\n",
    "from IPython.display import set_matplotlib_formats\n",
    "\n",
    "sns.set(style=\"whitegrid\")\n",
    "sns.set_context(\"poster\", font_scale=.5, rc={\"grid.linewidth\": 0.6})\n",
    "sns.set_style({'font.family': 'Roboto'})\n",
    "# jupyter-book clean ./ --all\n",
    "# jupyter-book build ./\n",
    "# ghp-import -n -p -f _build/html\n",
    "\n",
    "import warnings\n",
    "warnings.filterwarnings(\"ignore\")\n",
    "from pandas.core.common import SettingWithCopyWarning\n",
    "warnings.simplefilter(action=\"ignore\", category=SettingWithCopyWarning)\n"
   ]
  },
  {
   "cell_type": "markdown",
   "id": "6d9d793a",
   "metadata": {},
   "source": [
    "### 2.1 Members Data\n"
   ]
  },
  {
   "cell_type": "code",
   "execution_count": 41,
   "id": "7356f566",
   "metadata": {},
   "outputs": [
    {
     "data": {
      "text/plain": [
       "memberID      0\n",
       "holdtime      0\n",
       "puzzlepack    0\n",
       "dtype: int64"
      ]
     },
     "execution_count": 41,
     "metadata": {},
     "output_type": "execute_result"
    }
   ],
   "source": [
    "member_holdtime_df=pd.read_csv('data/member_holdtime_df.csv')\n",
    "member_holdtime_df.isnull().sum()"
   ]
  },
  {
   "cell_type": "code",
   "execution_count": 42,
   "id": "07c920d8",
   "metadata": {},
   "outputs": [],
   "source": [
    "# removing outliers\n",
    "member_holdtime_df = member_holdtime_df[(member_holdtime_df['holdtime'] >= 0.1) & \n",
    "                                        (member_holdtime_df['holdtime'] <= 150)]"
   ]
  },
  {
   "cell_type": "markdown",
   "id": "8ea7c5df",
   "metadata": {},
   "source": [
    "### 2.2 Packs Data\n"
   ]
  },
  {
   "cell_type": "code",
   "execution_count": 43,
   "id": "2f29f47c",
   "metadata": {},
   "outputs": [
    {
     "data": {
      "text/html": [
       "<div>\n",
       "<style scoped>\n",
       "    .dataframe tbody tr th:only-of-type {\n",
       "        vertical-align: middle;\n",
       "    }\n",
       "\n",
       "    .dataframe tbody tr th {\n",
       "        vertical-align: top;\n",
       "    }\n",
       "\n",
       "    .dataframe thead th {\n",
       "        text-align: right;\n",
       "    }\n",
       "</style>\n",
       "<table border=\"1\" class=\"dataframe\">\n",
       "  <thead>\n",
       "    <tr style=\"text-align: right;\">\n",
       "      <th></th>\n",
       "      <th>pack_name</th>\n",
       "      <th>brand</th>\n",
       "      <th>piece_count</th>\n",
       "      <th>difficulty_rating</th>\n",
       "      <th>piece_count_1</th>\n",
       "      <th>piece_count_2</th>\n",
       "      <th>difficulty_rating_1</th>\n",
       "      <th>difficulty_rating_2</th>\n",
       "    </tr>\n",
       "  </thead>\n",
       "  <tbody>\n",
       "    <tr>\n",
       "      <th>0</th>\n",
       "      <td>Anne Belle Thompson The Mikado Anne Belle Thom...</td>\n",
       "      <td>Other-Hand-cut</td>\n",
       "      <td>387,242</td>\n",
       "      <td>A-Easy,A-Easy</td>\n",
       "      <td>387.0</td>\n",
       "      <td>242.0</td>\n",
       "      <td>A-Easy</td>\n",
       "      <td>A-Easy</td>\n",
       "    </tr>\n",
       "    <tr>\n",
       "      <th>1</th>\n",
       "      <td>Anthology Puzzles Alphonse Mucha La Plume Anth...</td>\n",
       "      <td>NaN</td>\n",
       "      <td>320,160</td>\n",
       "      <td>Average,Average</td>\n",
       "      <td>320.0</td>\n",
       "      <td>160.0</td>\n",
       "      <td>Average</td>\n",
       "      <td>Average</td>\n",
       "    </tr>\n",
       "    <tr>\n",
       "      <th>2</th>\n",
       "      <td>Anthology Puzzles Colorful Cat Anthology Puzzl...</td>\n",
       "      <td>NaN</td>\n",
       "      <td>150,170</td>\n",
       "      <td>Really-Hard,A-Easy</td>\n",
       "      <td>150.0</td>\n",
       "      <td>170.0</td>\n",
       "      <td>Really-Hard</td>\n",
       "      <td>A-Easy</td>\n",
       "    </tr>\n",
       "    <tr>\n",
       "      <th>3</th>\n",
       "      <td>Anthology Puzzles Framed American Gothic Antho...</td>\n",
       "      <td>NaN</td>\n",
       "      <td>320,300</td>\n",
       "      <td>Average,Average</td>\n",
       "      <td>320.0</td>\n",
       "      <td>300.0</td>\n",
       "      <td>Average</td>\n",
       "      <td>Average</td>\n",
       "    </tr>\n",
       "    <tr>\n",
       "      <th>4</th>\n",
       "      <td>Anthology Puzzles Over The Moon Anthology Puzz...</td>\n",
       "      <td>NaN</td>\n",
       "      <td>278,177</td>\n",
       "      <td>Average,A-Easy</td>\n",
       "      <td>278.0</td>\n",
       "      <td>177.0</td>\n",
       "      <td>Average</td>\n",
       "      <td>A-Easy</td>\n",
       "    </tr>\n",
       "  </tbody>\n",
       "</table>\n",
       "</div>"
      ],
      "text/plain": [
       "                                           pack_name           brand  \\\n",
       "0  Anne Belle Thompson The Mikado Anne Belle Thom...  Other-Hand-cut   \n",
       "1  Anthology Puzzles Alphonse Mucha La Plume Anth...             NaN   \n",
       "2  Anthology Puzzles Colorful Cat Anthology Puzzl...             NaN   \n",
       "3  Anthology Puzzles Framed American Gothic Antho...             NaN   \n",
       "4  Anthology Puzzles Over The Moon Anthology Puzz...             NaN   \n",
       "\n",
       "  piece_count   difficulty_rating  piece_count_1  piece_count_2  \\\n",
       "0     387,242       A-Easy,A-Easy          387.0          242.0   \n",
       "1     320,160     Average,Average          320.0          160.0   \n",
       "2     150,170  Really-Hard,A-Easy          150.0          170.0   \n",
       "3     320,300     Average,Average          320.0          300.0   \n",
       "4     278,177      Average,A-Easy          278.0          177.0   \n",
       "\n",
       "  difficulty_rating_1 difficulty_rating_2  \n",
       "0              A-Easy              A-Easy  \n",
       "1             Average             Average  \n",
       "2         Really-Hard              A-Easy  \n",
       "3             Average             Average  \n",
       "4             Average              A-Easy  "
      ]
     },
     "execution_count": 43,
     "metadata": {},
     "output_type": "execute_result"
    }
   ],
   "source": [
    "packs_df=pd.read_csv('data/packs_df.csv')\n",
    "packs_df.head()"
   ]
  },
  {
   "cell_type": "code",
   "execution_count": 44,
   "id": "c9c865eb",
   "metadata": {},
   "outputs": [],
   "source": [
    "# splitting brand name\n",
    "packs_df['brand_2'] = packs_df['brand'].str.split(',', expand=True)[1]\n",
    "packs_df['brand_1'] = packs_df['brand'].str.split(',', expand=True)[0]"
   ]
  },
  {
   "cell_type": "code",
   "execution_count": 45,
   "id": "6ba0289e",
   "metadata": {},
   "outputs": [],
   "source": [
    "# adding number of puzzles feature\n",
    "packs_df['num_puzzles'] = packs_df['pack_name'].map(lambda n: 1 if (n[-1] == ' ') else 2, na_action='ignore')"
   ]
  },
  {
   "cell_type": "code",
   "execution_count": 46,
   "id": "fd41b929",
   "metadata": {},
   "outputs": [],
   "source": [
    "# fixing datatype\n",
    "packs_df = packs_df.astype({'piece_count_1': 'int64', 'piece_count_2': 'int64'}, errors='ignore')"
   ]
  },
  {
   "cell_type": "code",
   "execution_count": 47,
   "id": "f85c15d1",
   "metadata": {},
   "outputs": [],
   "source": [
    "# dropping the initial variables\n",
    "packs_df.drop(['brand', 'piece_count', 'difficulty_rating'], axis=1, inplace=True)"
   ]
  },
  {
   "cell_type": "code",
   "execution_count": 48,
   "id": "16d622d8",
   "metadata": {},
   "outputs": [
    {
     "data": {
      "text/plain": [
       "pack_name                0\n",
       "piece_count_1            8\n",
       "piece_count_2          181\n",
       "difficulty_rating_1      4\n",
       "difficulty_rating_2      4\n",
       "brand_2                775\n",
       "brand_1                 25\n",
       "num_puzzles              0\n",
       "dtype: int64"
      ]
     },
     "execution_count": 48,
     "metadata": {},
     "output_type": "execute_result"
    }
   ],
   "source": [
    "packs_df.isnull().sum()"
   ]
  },
  {
   "cell_type": "code",
   "execution_count": 49,
   "id": "15b61b65",
   "metadata": {},
   "outputs": [],
   "source": [
    "# making the brand_2 same as brand_1\n",
    "# ------ must be done only for puzzle = 2, right?\n",
    "packs_df.loc[(packs_df['brand_2'].isna()), 'brand_2'] = packs_df['brand_1']"
   ]
  },
  {
   "cell_type": "code",
   "execution_count": 50,
   "id": "e5cd081d",
   "metadata": {},
   "outputs": [],
   "source": [
    "packs_df[['brand_1', 'brand_2']] = packs_df[['brand_1', 'brand_2']].fillna('unknown')"
   ]
  },
  {
   "cell_type": "code",
   "execution_count": 51,
   "id": "f22aa5ed",
   "metadata": {
    "tags": [
     "remove_input"
    ]
   },
   "outputs": [
    {
     "data": {
      "image/png": "[encoded data removed]",
      "text/plain": [
       "<Figure size 1080x360 with 2 Axes>"
      ]
     },
     "metadata": {},
     "output_type": "display_data"
    }
   ],
   "source": [
    "# Bar charts for distribution of brand\n",
    "fig, axs = plt.subplots(1, 2, figsize=(15, 5))\n",
    "fig.suptitle(\"Figure 3. Value Counts for Brand\", weight='heavy',y =0.99, x=0.16).set_fontsize('18')\n",
    "\n",
    "sns.histplot(data=packs_df, y=packs_df[packs_df['brand_1'].notnull()]['brand_1'], color=\"#e794bb\", alpha = 1.0, ax=axs[0])\n",
    "axs[0].set_title(\"Puzzle 1\")\n",
    "sns.histplot(data=packs_df, y=packs_df[packs_df['brand_2'].notnull()]['brand_2'], color=\"#ba328b\", alpha = 1.0, ax=axs[1])\n",
    "axs[1].set_title(\"Puzzle 2\")\n",
    "\n",
    "sns.despine(left=True, bottom=True)\n",
    "fig.tight_layout()\n",
    "# plt.savefig(\"_static/images/brand_dist.png\", format=\"png\", dpi=1200)\n",
    "plt.show()"
   ]
  },
  {
   "cell_type": "code",
   "execution_count": 52,
   "id": "ebb6c87d",
   "metadata": {},
   "outputs": [],
   "source": [
    "# Some 1 puzzle packs have a second number for pieces, this seems to be legit, updating to be 2 puzzle packs\n",
    "packs_df.loc[((packs_df.num_puzzles == 1) & (packs_df.piece_count_2.notna())), 'num_puzzles'] = 2"
   ]
  },
  {
   "cell_type": "code",
   "execution_count": 53,
   "id": "d5459e84",
   "metadata": {},
   "outputs": [],
   "source": [
    "packs_df.piece_count_1 = packs_df.piece_count_1.astype('float').astype('Int64')\n",
    "packs_df.piece_count_2 = packs_df.piece_count_2.astype('float').astype('Int64')\n",
    "\n",
    "avg_pc1 = packs_df['piece_count_1'].median()\n",
    "avg_pc2 = packs_df['piece_count_2'].median()"
   ]
  },
  {
   "cell_type": "code",
   "execution_count": 54,
   "id": "38e4c2e2",
   "metadata": {},
   "outputs": [],
   "source": [
    "# puzzles which have no value for piece_1 is replaced with avg values\n",
    "packs_df['piece_count_1'].fillna(avg_pc1, inplace=True)"
   ]
  },
  {
   "cell_type": "code",
   "execution_count": 55,
   "id": "a19a8ece",
   "metadata": {},
   "outputs": [],
   "source": [
    "# if 2 puzzles and second piececount is not available, replace with average\n",
    "packs_df.loc[((packs_df['piece_count_2'].isna() ) &(packs_df['num_puzzles'] ==2)), 'piece_count_2'] = int(avg_pc2)"
   ]
  },
  {
   "cell_type": "code",
   "execution_count": 56,
   "id": "10d2d338",
   "metadata": {},
   "outputs": [],
   "source": [
    "# puzzles with no second piece_count, make second piece count 0 \n",
    "# (because num_puzzle = 2 was dealt with earlier)\n",
    "packs_df.loc[(packs_df['piece_count_2'].isna()) & (packs_df['num_puzzles'] ==1), 'piece_count_2'] = int(0)"
   ]
  },
  {
   "cell_type": "code",
   "execution_count": 57,
   "id": "433f63ca",
   "metadata": {},
   "outputs": [
    {
     "data": {
      "text/plain": [
       "pack_name              0\n",
       "piece_count_1          0\n",
       "piece_count_2          0\n",
       "difficulty_rating_1    4\n",
       "difficulty_rating_2    4\n",
       "brand_2                0\n",
       "brand_1                0\n",
       "num_puzzles            0\n",
       "dtype: int64"
      ]
     },
     "execution_count": 57,
     "metadata": {},
     "output_type": "execute_result"
    }
   ],
   "source": [
    "packs_df.isnull().sum()"
   ]
  },
  {
   "cell_type": "code",
   "execution_count": 58,
   "id": "05fdf166",
   "metadata": {},
   "outputs": [],
   "source": [
    "packs_df['difficulty_rating_1'].fillna('Average', inplace=True)\n",
    "packs_df['difficulty_rating_2'].fillna('Average', inplace=True)"
   ]
  },
  {
   "cell_type": "markdown",
   "id": "dfb4cb56",
   "metadata": {},
   "source": [
    "### 2.3 Merged data"
   ]
  },
  {
   "cell_type": "code",
   "execution_count": 59,
   "id": "f95473b8",
   "metadata": {},
   "outputs": [
    {
     "data": {
      "text/html": [
       "<div>\n",
       "<style scoped>\n",
       "    .dataframe tbody tr th:only-of-type {\n",
       "        vertical-align: middle;\n",
       "    }\n",
       "\n",
       "    .dataframe tbody tr th {\n",
       "        vertical-align: top;\n",
       "    }\n",
       "\n",
       "    .dataframe thead th {\n",
       "        text-align: right;\n",
       "    }\n",
       "</style>\n",
       "<table border=\"1\" class=\"dataframe\">\n",
       "  <thead>\n",
       "    <tr style=\"text-align: right;\">\n",
       "      <th></th>\n",
       "      <th>memberID</th>\n",
       "      <th>holdtime</th>\n",
       "      <th>puzzlepack</th>\n",
       "      <th>pack_name</th>\n",
       "      <th>piece_count_1</th>\n",
       "      <th>piece_count_2</th>\n",
       "      <th>difficulty_rating_1</th>\n",
       "      <th>difficulty_rating_2</th>\n",
       "      <th>brand_2</th>\n",
       "      <th>brand_1</th>\n",
       "      <th>num_puzzles</th>\n",
       "    </tr>\n",
       "  </thead>\n",
       "  <tbody>\n",
       "    <tr>\n",
       "      <th>0</th>\n",
       "      <td>member1</td>\n",
       "      <td>2.939411</td>\n",
       "      <td>Artifact Puzzles Justin Hillgrove Word Travels...</td>\n",
       "      <td>Artifact Puzzles Justin Hillgrove Word Travels...</td>\n",
       "      <td>456</td>\n",
       "      <td>548</td>\n",
       "      <td>A-Easy</td>\n",
       "      <td>Average</td>\n",
       "      <td>Artifact</td>\n",
       "      <td>Artifact</td>\n",
       "      <td>2.0</td>\n",
       "    </tr>\n",
       "    <tr>\n",
       "      <th>1</th>\n",
       "      <td>member1</td>\n",
       "      <td>0.998885</td>\n",
       "      <td>DaVici Puzzles Full Moon Feast DaVici Puzzles ...</td>\n",
       "      <td>DaVici Puzzles Full Moon Feast DaVici Puzzles ...</td>\n",
       "      <td>195</td>\n",
       "      <td>220</td>\n",
       "      <td>A-Easy</td>\n",
       "      <td>Hard</td>\n",
       "      <td>DaVici</td>\n",
       "      <td>DaVici</td>\n",
       "      <td>2.0</td>\n",
       "    </tr>\n",
       "  </tbody>\n",
       "</table>\n",
       "</div>"
      ],
      "text/plain": [
       "  memberID  holdtime                                         puzzlepack  \\\n",
       "0  member1  2.939411  Artifact Puzzles Justin Hillgrove Word Travels...   \n",
       "1  member1  0.998885  DaVici Puzzles Full Moon Feast DaVici Puzzles ...   \n",
       "\n",
       "                                           pack_name  piece_count_1  \\\n",
       "0  Artifact Puzzles Justin Hillgrove Word Travels...            456   \n",
       "1  DaVici Puzzles Full Moon Feast DaVici Puzzles ...            195   \n",
       "\n",
       "   piece_count_2 difficulty_rating_1 difficulty_rating_2   brand_2   brand_1  \\\n",
       "0            548              A-Easy             Average  Artifact  Artifact   \n",
       "1            220              A-Easy                Hard    DaVici    DaVici   \n",
       "\n",
       "   num_puzzles  \n",
       "0          2.0  \n",
       "1          2.0  "
      ]
     },
     "execution_count": 59,
     "metadata": {},
     "output_type": "execute_result"
    }
   ],
   "source": [
    "df = member_holdtime_df.merge(packs_df, left_on='puzzlepack', right_on='pack_name', how='left')\n",
    "df.head(2)"
   ]
  },
  {
   "cell_type": "code",
   "execution_count": 60,
   "id": "6cb17d39",
   "metadata": {},
   "outputs": [
    {
     "data": {
      "text/plain": [
       "((19387, 11), (19387, 3))"
      ]
     },
     "execution_count": 60,
     "metadata": {},
     "output_type": "execute_result"
    }
   ],
   "source": [
    "df.shape, member_holdtime_df.shape"
   ]
  },
  {
   "cell_type": "code",
   "execution_count": 61,
   "id": "8d37f54e",
   "metadata": {},
   "outputs": [
    {
     "data": {
      "text/plain": [
       "(968, 920)"
      ]
     },
     "execution_count": 61,
     "metadata": {},
     "output_type": "execute_result"
    }
   ],
   "source": [
    "member_holdtime_df.puzzlepack.nunique(), packs_df.pack_name.nunique(), "
   ]
  },
  {
   "cell_type": "code",
   "execution_count": 62,
   "id": "11a58809",
   "metadata": {},
   "outputs": [
    {
     "data": {
      "text/plain": [
       "memberID                  0\n",
       "holdtime                  0\n",
       "puzzlepack                0\n",
       "pack_name              1085\n",
       "piece_count_1          1085\n",
       "piece_count_2          1085\n",
       "difficulty_rating_1    1085\n",
       "difficulty_rating_2    1085\n",
       "brand_2                1085\n",
       "brand_1                1085\n",
       "num_puzzles            1085\n",
       "dtype: int64"
      ]
     },
     "execution_count": 62,
     "metadata": {},
     "output_type": "execute_result"
    }
   ],
   "source": [
    "df.isnull().sum()\n",
    "# about 5% of the data is missing"
   ]
  },
  {
   "cell_type": "markdown",
   "id": "115a36c7",
   "metadata": {},
   "source": [
    "<div class=\"alert alert-block alert-info\">\n",
    "<b>Tip:</b> # Ideally we should have information about all the packs. Since we do not have this information and it is recommended that we do not drop these rows, we will impute these with the average values.\n",
    "</div>"
   ]
  },
  {
   "cell_type": "markdown",
   "id": "aa05a8a3",
   "metadata": {},
   "source": [
    "### 2.4 Dealing with Nulls!\n",
    "**Methodology**\n",
    "\n",
    "* num_puzzles $\\longrightarrow$ Count number of times 'Puzzle' appears in puzzlepack\n",
    "* brand_1, brand_2 $\\longrightarrow$ Take word before 'Puzzle' as brand name\n",
    "* difficulty_rating $\\longrightarrow$ Take average at brand level from known data\n",
    "* piece_count $\\longrightarrow$ Take average at brand level from known data"
   ]
  },
  {
   "cell_type": "code",
   "execution_count": 63,
   "id": "d7c0c333",
   "metadata": {},
   "outputs": [],
   "source": [
    "missing_pack_data = df.loc[df['pack_name'].isna()][['puzzlepack', 'piece_count_1', 'piece_count_2',\n",
    "                               'difficulty_rating_1', 'difficulty_rating_2', 'brand_1', \n",
    "                                'brand_2', 'num_puzzles']]\n",
    "missing_pack_data.reset_index(drop=True, inplace=True)"
   ]
  },
  {
   "cell_type": "code",
   "execution_count": 64,
   "id": "1282719e",
   "metadata": {},
   "outputs": [],
   "source": [
    "# getting number of puzzles\n",
    "missing_pack_data['num_puzzles'] = missing_pack_data['puzzlepack'].apply(lambda x: (x.count('Puzzles')))"
   ]
  },
  {
   "cell_type": "code",
   "execution_count": 70,
   "id": "f8a92e5f",
   "metadata": {},
   "outputs": [
    {
     "name": "stderr",
     "output_type": "stream",
     "text": [
      "C:\\conda_tmp\\ipykernel_21028\\3884542231.py:4: SettingWithCopyWarning: \n",
      "A value is trying to be set on a copy of a slice from a DataFrame\n",
      "\n",
      "See the caveats in the documentation: https://pandas.pydata.org/pandas-docs/stable/user_guide/indexing.html#returning-a-view-versus-a-copy\n",
      "  missing_pack_data['num_puzzles'][i] = 1\n",
      "C:\\conda_tmp\\ipykernel_21028\\3884542231.py:6: SettingWithCopyWarning: \n",
      "A value is trying to be set on a copy of a slice from a DataFrame\n",
      "\n",
      "See the caveats in the documentation: https://pandas.pydata.org/pandas-docs/stable/user_guide/indexing.html#returning-a-view-versus-a-copy\n",
      "  missing_pack_data['num_puzzles'][i] = 2\n"
     ]
    }
   ],
   "source": [
    "# packs can have only 1 or two puzzles\n",
    "for i in range(len(missing_pack_data)):\n",
    "    if missing_pack_data['num_puzzles'][i] < 1:\n",
    "        missing_pack_data['num_puzzles'][i] = 1\n",
    "    elif missing_pack_data['num_puzzles'][i] > 2:\n",
    "        missing_pack_data['num_puzzles'][i] = 2"
   ]
  },
  {
   "cell_type": "code",
   "execution_count": 71,
   "id": "60ad0f2b",
   "metadata": {},
   "outputs": [],
   "source": [
    "## to limit the number of brand names we will only use the brands that we know\n",
    "known_brands = list(set(packs_df['brand_1'].unique()).union(set(packs_df['brand_2'].unique())))"
   ]
  },
  {
   "cell_type": "code",
   "execution_count": 72,
   "id": "57ca7af2",
   "metadata": {},
   "outputs": [
    {
     "name": "stderr",
     "output_type": "stream",
     "text": [
      "C:\\conda_tmp\\ipykernel_21028\\3406144899.py:7: SettingWithCopyWarning: \n",
      "A value is trying to be set on a copy of a slice from a DataFrame\n",
      "\n",
      "See the caveats in the documentation: https://pandas.pydata.org/pandas-docs/stable/user_guide/indexing.html#returning-a-view-versus-a-copy\n",
      "  missing_pack_data['brand_1'][i] = words[words.index('Puzzles')-1]\n",
      "C:\\conda_tmp\\ipykernel_21028\\3406144899.py:9: SettingWithCopyWarning: \n",
      "A value is trying to be set on a copy of a slice from a DataFrame\n",
      "\n",
      "See the caveats in the documentation: https://pandas.pydata.org/pandas-docs/stable/user_guide/indexing.html#returning-a-view-versus-a-copy\n",
      "  missing_pack_data['brand_1'][i] = 'unknown'\n"
     ]
    }
   ],
   "source": [
    "# getting brand_1\n",
    "for i in range(len(missing_pack_data)):\n",
    "    words = missing_pack_data['puzzlepack'][i].split()[:2]\n",
    "\n",
    "    if 'Puzzles' in words[1:]:  # if its the second or third word\n",
    "        if words[words.index('Puzzles')-1] in (known_brands):\n",
    "            missing_pack_data['brand_1'][i] = words[words.index('Puzzles')-1]\n",
    "        else:\n",
    "            missing_pack_data['brand_1'][i] = 'unknown'\n"
   ]
  },
  {
   "cell_type": "code",
   "execution_count": null,
   "id": "7529e7eb",
   "metadata": {},
   "outputs": [],
   "source": [
    "# getting brand_2\n",
    "for i in range(len(missing_pack_data)):\n",
    "    words = missing_pack_data['puzzlepack'][i].split()[2:]\n",
    "    if 'Puzzles' in words[1:]:  # if its the 4th word onwards\n",
    "        if words[words.index('Puzzles')-1] in (known_brands):\n",
    "            missing_pack_data['brand_2'][i] = words[words.index('Puzzles')-1]\n",
    "        else:\n",
    "            missing_pack_data['brand_2'][i] = 'unknown'\n"
   ]
  },
  {
   "cell_type": "code",
   "execution_count": 74,
   "id": "44c2ab96",
   "metadata": {},
   "outputs": [
    {
     "data": {
      "text/plain": [
       "num_puzzles      0\n",
       "brand_1        139\n",
       "brand_2        333\n",
       "dtype: int64"
      ]
     },
     "execution_count": 74,
     "metadata": {},
     "output_type": "execute_result"
    }
   ],
   "source": [
    "missing_pack_data[['num_puzzles', 'brand_1', 'brand_2']].isnull().sum()"
   ]
  },
  {
   "cell_type": "code",
   "execution_count": 33,
   "id": "e14ac8a2",
   "metadata": {},
   "outputs": [],
   "source": [
    "# if anything still missing in num_puzzles, brands\n",
    "missing_pack_data['num_puzzles'].fillna(1, inplace=True)\n",
    "missing_pack_data['brand_1'].fillna('unknown', inplace=True)\n",
    "missing_pack_data['brand_2'].fillna('unknown', inplace=True)"
   ]
  },
  {
   "cell_type": "code",
   "execution_count": 53,
   "id": "dd163317",
   "metadata": {},
   "outputs": [],
   "source": [
    "# brand level average piece count values -- KNOWN data\n",
    "groupby_brand_pieces_1 = packs_df.groupby(\"brand_1\")[\"piece_count_1\"].mean()\n",
    "groupby_brand_pieces_2 = packs_df.groupby(\"brand_2\")[\"piece_count_2\"].mean()"
   ]
  },
  {
   "cell_type": "code",
   "execution_count": 54,
   "id": "424af44b",
   "metadata": {},
   "outputs": [],
   "source": [
    "# getting piece_count_1\n",
    "for i in range(0, len(missing_pack_data)):\n",
    "    try:\n",
    "        missing_pack_data['piece_count_1'][i] = int(groupby_brand_pieces_1[missing_pack_data['brand_1'][i]])\n",
    "        # getting piece_count_2 if needed\n",
    "        if missing_pack_data['num_puzzles'][i] == 1:\n",
    "            missing_pack_data['piece_count_2'][i] = 0\n",
    "        else:\n",
    "            missing_pack_data['piece_count_2'][i] = int(groupby_brand_pieces_2[missing_pack_data['brand_2'][i]])\n",
    "    except Exception as e:\n",
    "        pass\n",
    "#         print(e)"
   ]
  },
  {
   "cell_type": "code",
   "execution_count": 55,
   "id": "47c40d25",
   "metadata": {},
   "outputs": [],
   "source": [
    "# brand level most common difficulty values -- KNOWN data\n",
    "groupby_brand_diff_1 = packs_df.groupby(\"brand_1\")[\"difficulty_rating_1\"].agg(pd.Series.mode)\n",
    "groupby_brand_diff_2 = packs_df.groupby(\"brand_2\")[\"difficulty_rating_2\"].agg(pd.Series.mode)"
   ]
  },
  {
   "cell_type": "code",
   "execution_count": 56,
   "id": "dacfe152",
   "metadata": {},
   "outputs": [
    {
     "name": "stderr",
     "output_type": "stream",
     "text": [
      "C:\\conda_tmp\\ipykernel_16084\\1558376054.py:4: SettingWithCopyWarning: \n",
      "A value is trying to be set on a copy of a slice from a DataFrame\n",
      "\n",
      "See the caveats in the documentation: https://pandas.pydata.org/pandas-docs/stable/user_guide/indexing.html#returning-a-view-versus-a-copy\n",
      "  missing_pack_data['difficulty_rating_1'][i] = groupby_brand_diff_1[missing_pack_data['brand_1'][i]]\n",
      "C:\\conda_tmp\\ipykernel_16084\\1558376054.py:9: SettingWithCopyWarning: \n",
      "A value is trying to be set on a copy of a slice from a DataFrame\n",
      "\n",
      "See the caveats in the documentation: https://pandas.pydata.org/pandas-docs/stable/user_guide/indexing.html#returning-a-view-versus-a-copy\n",
      "  missing_pack_data['difficulty_rating_2'][i] = (groupby_brand_diff_2[missing_pack_data['brand_2'][i]])\n",
      "C:\\conda_tmp\\ipykernel_16084\\1558376054.py:7: SettingWithCopyWarning: \n",
      "A value is trying to be set on a copy of a slice from a DataFrame\n",
      "\n",
      "See the caveats in the documentation: https://pandas.pydata.org/pandas-docs/stable/user_guide/indexing.html#returning-a-view-versus-a-copy\n",
      "  missing_pack_data['difficulty_rating_2'][i] = 'Average'\n"
     ]
    }
   ],
   "source": [
    "# getting difficulty_rating_1\n",
    "for i in range(0, len(missing_pack_data)):\n",
    "    try:\n",
    "        missing_pack_data['difficulty_rating_1'][i] = groupby_brand_diff_1[missing_pack_data['brand_1'][i]]\n",
    "        # getting difficulty_rating_2 if needed\n",
    "        if missing_pack_data['num_puzzles'][i] == 1:\n",
    "            missing_pack_data['difficulty_rating_2'][i] = 'Average'\n",
    "        else:\n",
    "            missing_pack_data['difficulty_rating_2'][i] = (groupby_brand_diff_2[missing_pack_data['brand_2'][i]])\n",
    "    except Exception as e:\n",
    "        pass"
   ]
  },
  {
   "cell_type": "code",
   "execution_count": 57,
   "id": "edeef37f",
   "metadata": {},
   "outputs": [
    {
     "data": {
      "text/plain": [
       "puzzlepack             0\n",
       "piece_count_1          0\n",
       "piece_count_2          0\n",
       "difficulty_rating_1    0\n",
       "difficulty_rating_2    0\n",
       "brand_1                0\n",
       "brand_2                0\n",
       "num_puzzles            0\n",
       "dtype: int64"
      ]
     },
     "execution_count": 57,
     "metadata": {},
     "output_type": "execute_result"
    }
   ],
   "source": [
    "missing_pack_data.isnull().sum()"
   ]
  },
  {
   "cell_type": "markdown",
   "id": "11d4827c",
   "metadata": {},
   "source": [
    "**Comments:**\n",
    "- No missing values in the data\n",
    "- We have information about 675 members and 910 unique puzzle packs\n"
   ]
  },
  {
   "cell_type": "markdown",
   "id": "a0c1be0f",
   "metadata": {},
   "source": [
    "### Making a final packs data"
   ]
  },
  {
   "cell_type": "code",
   "execution_count": null,
   "id": "c12eb596",
   "metadata": {},
   "outputs": [],
   "source": [
    "# setting order same as missing pack to concat easily\n",
    "packs_df = packs_df[['pack_name', 'piece_count_1', 'piece_count_2', 'difficulty_rating_1', \n",
    "                             'difficulty_rating_2', 'brand_1', 'brand_2', 'num_puzzles']]"
   ]
  },
  {
   "cell_type": "code",
   "execution_count": null,
   "id": "54ca2cc3",
   "metadata": {},
   "outputs": [],
   "source": [
    "# setting same column names to concat easily\n",
    "missing_pack_data = missing_pack_data.rename(columns = {'puzzlepack':'pack_name'})"
   ]
  },
  {
   "cell_type": "code",
   "execution_count": null,
   "id": "4b3386c5",
   "metadata": {},
   "outputs": [],
   "source": [
    "packs_df.shape, missing_pack_data.shape"
   ]
  },
  {
   "cell_type": "code",
   "execution_count": null,
   "id": "10f53433",
   "metadata": {},
   "outputs": [],
   "source": [
    "packs_updated = pd.concat([packs_df, missing_pack_data])\n",
    "packs_updated.reset_index(inplace=True, drop = True)\n",
    "packs_updated.shape"
   ]
  },
  {
   "cell_type": "code",
   "execution_count": null,
   "id": "911bf569",
   "metadata": {},
   "outputs": [],
   "source": [
    "df_cleaned = member_holdtime_df.merge(packs_updated, left_on='puzzlepack', right_on='pack_name', how='left')\n",
    "df_cleaned.head(2)"
   ]
  },
  {
   "cell_type": "code",
   "execution_count": null,
   "id": "cc5474df",
   "metadata": {},
   "outputs": [],
   "source": [
    "df_cleaned.drop_duplicates(inplace=True)\n",
    "df_cleaned.reset_index(drop=True, inplace=True)"
   ]
  },
  {
   "cell_type": "code",
   "execution_count": null,
   "id": "9a5672d4",
   "metadata": {},
   "outputs": [],
   "source": [
    "difficulty_mapping = {'A-Easy': 1, 'Average': 2, 'Hard': 3, 'Really-Hard': 4}\n",
    "\n",
    "df_cleaned['difficulty_rating_1'] = df_cleaned['difficulty_rating_1'].map(lambda x: difficulty_mapping[x], na_action='ignore')\n",
    "df_cleaned['difficulty_rating_2'] = df_cleaned['difficulty_rating_2'].map(lambda x: difficulty_mapping[x], na_action='ignore')"
   ]
  },
  {
   "cell_type": "code",
   "execution_count": null,
   "id": "9ee3fe99",
   "metadata": {},
   "outputs": [],
   "source": [
    "df_cleaned.shape, df.shape, member_holdtime_df.shape"
   ]
  },
  {
   "cell_type": "code",
   "execution_count": null,
   "id": "ce9fab27",
   "metadata": {},
   "outputs": [],
   "source": [
    "df_cleaned.isnull().sum()"
   ]
  },
  {
   "cell_type": "code",
   "execution_count": null,
   "id": "699f0ed9",
   "metadata": {},
   "outputs": [],
   "source": [
    "df_cleaned.to_csv('data/df_cleaned.csv', index=False)"
   ]
  }
 ],
 "metadata": {
  "celltoolbar": "Tags",
  "kernelspec": {
   "display_name": "Python 3 (ipykernel)",
   "language": "python",
   "name": "python3"
  },
  "language_info": {
   "codemirror_mode": {
    "name": "ipython",
    "version": 3
   },
   "file_extension": ".py",
   "mimetype": "text/x-python",
   "name": "python",
   "nbconvert_exporter": "python",
   "pygments_lexer": "ipython3",
   "version": "3.9.12"
  }
 },
 "nbformat": 4,
 "nbformat_minor": 5
}
