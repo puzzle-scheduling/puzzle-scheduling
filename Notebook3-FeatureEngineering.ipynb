{
 "cells": [
  {
   "attachments": {},
   "cell_type": "markdown",
   "id": "36941516",
   "metadata": {},
   "source": [
    "# 3. Feature Engineering"
   ]
  },
  {
   "cell_type": "code",
   "execution_count": 8,
   "id": "0d739e89",
   "metadata": {},
   "outputs": [],
   "source": [
    "import pandas as pd\n",
    "import numpy as np\n",
    "import math\n",
    "import matplotlib.pyplot as plt\n",
    "import seaborn as sns\n",
    "\n",
    "import warnings\n",
    "warnings.filterwarnings(\"ignore\")"
   ]
  },
  {
   "cell_type": "code",
   "execution_count": 10,
   "id": "a8c24d36",
   "metadata": {},
   "outputs": [
    {
     "data": {
      "text/html": [
       "<div>\n",
       "<style scoped>\n",
       "    .dataframe tbody tr th:only-of-type {\n",
       "        vertical-align: middle;\n",
       "    }\n",
       "\n",
       "    .dataframe tbody tr th {\n",
       "        vertical-align: top;\n",
       "    }\n",
       "\n",
       "    .dataframe thead th {\n",
       "        text-align: right;\n",
       "    }\n",
       "</style>\n",
       "<table border=\"1\" class=\"dataframe\">\n",
       "  <thead>\n",
       "    <tr style=\"text-align: right;\">\n",
       "      <th></th>\n",
       "      <th>memberID</th>\n",
       "      <th>holdtime</th>\n",
       "      <th>puzzlepack</th>\n",
       "      <th>pack_name</th>\n",
       "      <th>piece_count_1</th>\n",
       "      <th>piece_count_2</th>\n",
       "      <th>difficulty_rating_1</th>\n",
       "      <th>difficulty_rating_2</th>\n",
       "      <th>brand_1</th>\n",
       "      <th>brand_2</th>\n",
       "      <th>num_puzzles</th>\n",
       "    </tr>\n",
       "  </thead>\n",
       "  <tbody>\n",
       "    <tr>\n",
       "      <th>0</th>\n",
       "      <td>member1</td>\n",
       "      <td>2.939411</td>\n",
       "      <td>Artifact Puzzles Justin Hillgrove Word Travels...</td>\n",
       "      <td>Artifact Puzzles Justin Hillgrove Word Travels...</td>\n",
       "      <td>456</td>\n",
       "      <td>548</td>\n",
       "      <td>1</td>\n",
       "      <td>2</td>\n",
       "      <td>Artifact</td>\n",
       "      <td>Artifact</td>\n",
       "      <td>2</td>\n",
       "    </tr>\n",
       "    <tr>\n",
       "      <th>1</th>\n",
       "      <td>member1</td>\n",
       "      <td>0.998885</td>\n",
       "      <td>DaVici Puzzles Full Moon Feast DaVici Puzzles ...</td>\n",
       "      <td>DaVici Puzzles Full Moon Feast DaVici Puzzles ...</td>\n",
       "      <td>195</td>\n",
       "      <td>220</td>\n",
       "      <td>1</td>\n",
       "      <td>3</td>\n",
       "      <td>DaVici</td>\n",
       "      <td>DaVici</td>\n",
       "      <td>2</td>\n",
       "    </tr>\n",
       "    <tr>\n",
       "      <th>2</th>\n",
       "      <td>member1</td>\n",
       "      <td>10.865032</td>\n",
       "      <td>DaVici Puzzles Flying Frigate DaVici Puzzles H...</td>\n",
       "      <td>DaVici Puzzles Flying Frigate DaVici Puzzles H...</td>\n",
       "      <td>332</td>\n",
       "      <td>164</td>\n",
       "      <td>1</td>\n",
       "      <td>1</td>\n",
       "      <td>DaVici</td>\n",
       "      <td>DaVici</td>\n",
       "      <td>2</td>\n",
       "    </tr>\n",
       "    <tr>\n",
       "      <th>3</th>\n",
       "      <td>member1</td>\n",
       "      <td>22.083971</td>\n",
       "      <td>Liberty Puzzles Haeckel Hummingbirds Nautilus ...</td>\n",
       "      <td>Liberty Puzzles Haeckel Hummingbirds Nautilus ...</td>\n",
       "      <td>485</td>\n",
       "      <td>222</td>\n",
       "      <td>2</td>\n",
       "      <td>2</td>\n",
       "      <td>Liberty</td>\n",
       "      <td>Nautilus</td>\n",
       "      <td>2</td>\n",
       "    </tr>\n",
       "    <tr>\n",
       "      <th>4</th>\n",
       "      <td>member1</td>\n",
       "      <td>5.077603</td>\n",
       "      <td>DaVici Puzzles Diana Zimens City Of Cats</td>\n",
       "      <td>DaVici Puzzles Diana Zimens City Of Cats</td>\n",
       "      <td>700</td>\n",
       "      <td>0</td>\n",
       "      <td>2</td>\n",
       "      <td>2</td>\n",
       "      <td>DaVici</td>\n",
       "      <td>DaVici</td>\n",
       "      <td>1</td>\n",
       "    </tr>\n",
       "  </tbody>\n",
       "</table>\n",
       "</div>"
      ],
      "text/plain": [
       "  memberID   holdtime                                         puzzlepack  \\\n",
       "0  member1   2.939411  Artifact Puzzles Justin Hillgrove Word Travels...   \n",
       "1  member1   0.998885  DaVici Puzzles Full Moon Feast DaVici Puzzles ...   \n",
       "2  member1  10.865032  DaVici Puzzles Flying Frigate DaVici Puzzles H...   \n",
       "3  member1  22.083971  Liberty Puzzles Haeckel Hummingbirds Nautilus ...   \n",
       "4  member1   5.077603          DaVici Puzzles Diana Zimens City Of Cats    \n",
       "\n",
       "                                           pack_name  piece_count_1  \\\n",
       "0  Artifact Puzzles Justin Hillgrove Word Travels...            456   \n",
       "1  DaVici Puzzles Full Moon Feast DaVici Puzzles ...            195   \n",
       "2  DaVici Puzzles Flying Frigate DaVici Puzzles H...            332   \n",
       "3  Liberty Puzzles Haeckel Hummingbirds Nautilus ...            485   \n",
       "4          DaVici Puzzles Diana Zimens City Of Cats             700   \n",
       "\n",
       "   piece_count_2  difficulty_rating_1  difficulty_rating_2   brand_1  \\\n",
       "0            548                    1                    2  Artifact   \n",
       "1            220                    1                    3    DaVici   \n",
       "2            164                    1                    1    DaVici   \n",
       "3            222                    2                    2   Liberty   \n",
       "4              0                    2                    2    DaVici   \n",
       "\n",
       "    brand_2  num_puzzles  \n",
       "0  Artifact            2  \n",
       "1    DaVici            2  \n",
       "2    DaVici            2  \n",
       "3  Nautilus            2  \n",
       "4    DaVici            1  "
      ]
     },
     "execution_count": 10,
     "metadata": {},
     "output_type": "execute_result"
    }
   ],
   "source": [
    "df_cleaned = pd.read_csv('data/df_cleaned.csv')\n",
    "df_cleaned.head()"
   ]
  },
  {
   "cell_type": "markdown",
   "id": "1e7b06c0",
   "metadata": {},
   "source": [
    "### First feature is number of pieces for each difficulty d1, d2, d3, d4"
   ]
  },
  {
   "cell_type": "code",
   "execution_count": 11,
   "id": "4eab8709",
   "metadata": {},
   "outputs": [],
   "source": [
    "# taking code from jon's branch\n",
    "pieces_by_difficulty = []\n",
    "\n",
    "for i, row in df_cleaned.iterrows():\n",
    "    out = {\n",
    "        'name': row['pack_name'],\n",
    "        'pieces_d1': 0,\n",
    "        'pieces_d2': 0,\n",
    "        'pieces_d3': 0,\n",
    "        'pieces_d4': 0,\n",
    "        'num_puzzles': row['num_puzzles']\n",
    "    }\n",
    "    \n",
    "    if not math.isnan(row['piece_count_1']):\n",
    "        out[f'pieces_d{str(int(row[\"difficulty_rating_1\"]))}'] += row['piece_count_1']\n",
    "    \n",
    "    if(row['num_puzzles'] == 2 and math.isnan(row['piece_count_1']) == False):\n",
    "        out[f'pieces_d{str(int(row[\"difficulty_rating_2\"]))}'] += row['piece_count_2']\n",
    "        \n",
    "    pieces_by_difficulty.append(out)"
   ]
  },
  {
   "cell_type": "code",
   "execution_count": 12,
   "id": "dd7918fa",
   "metadata": {},
   "outputs": [
    {
     "data": {
      "text/html": [
       "<div>\n",
       "<style scoped>\n",
       "    .dataframe tbody tr th:only-of-type {\n",
       "        vertical-align: middle;\n",
       "    }\n",
       "\n",
       "    .dataframe tbody tr th {\n",
       "        vertical-align: top;\n",
       "    }\n",
       "\n",
       "    .dataframe thead th {\n",
       "        text-align: right;\n",
       "    }\n",
       "</style>\n",
       "<table border=\"1\" class=\"dataframe\">\n",
       "  <thead>\n",
       "    <tr style=\"text-align: right;\">\n",
       "      <th></th>\n",
       "      <th>name</th>\n",
       "      <th>pieces_d1</th>\n",
       "      <th>pieces_d2</th>\n",
       "      <th>pieces_d3</th>\n",
       "      <th>pieces_d4</th>\n",
       "      <th>num_puzzles</th>\n",
       "    </tr>\n",
       "  </thead>\n",
       "  <tbody>\n",
       "    <tr>\n",
       "      <th>0</th>\n",
       "      <td>Artifact Puzzles Justin Hillgrove Word Travels...</td>\n",
       "      <td>456</td>\n",
       "      <td>548</td>\n",
       "      <td>0</td>\n",
       "      <td>0</td>\n",
       "      <td>2</td>\n",
       "    </tr>\n",
       "    <tr>\n",
       "      <th>1</th>\n",
       "      <td>DaVici Puzzles Full Moon Feast DaVici Puzzles ...</td>\n",
       "      <td>195</td>\n",
       "      <td>0</td>\n",
       "      <td>220</td>\n",
       "      <td>0</td>\n",
       "      <td>2</td>\n",
       "    </tr>\n",
       "    <tr>\n",
       "      <th>2</th>\n",
       "      <td>DaVici Puzzles Flying Frigate DaVici Puzzles H...</td>\n",
       "      <td>496</td>\n",
       "      <td>0</td>\n",
       "      <td>0</td>\n",
       "      <td>0</td>\n",
       "      <td>2</td>\n",
       "    </tr>\n",
       "    <tr>\n",
       "      <th>3</th>\n",
       "      <td>Liberty Puzzles Haeckel Hummingbirds Nautilus ...</td>\n",
       "      <td>0</td>\n",
       "      <td>707</td>\n",
       "      <td>0</td>\n",
       "      <td>0</td>\n",
       "      <td>2</td>\n",
       "    </tr>\n",
       "    <tr>\n",
       "      <th>4</th>\n",
       "      <td>DaVici Puzzles Diana Zimens City Of Cats</td>\n",
       "      <td>0</td>\n",
       "      <td>700</td>\n",
       "      <td>0</td>\n",
       "      <td>0</td>\n",
       "      <td>1</td>\n",
       "    </tr>\n",
       "  </tbody>\n",
       "</table>\n",
       "</div>"
      ],
      "text/plain": [
       "                                                name  pieces_d1  pieces_d2  \\\n",
       "0  Artifact Puzzles Justin Hillgrove Word Travels...        456        548   \n",
       "1  DaVici Puzzles Full Moon Feast DaVici Puzzles ...        195          0   \n",
       "2  DaVici Puzzles Flying Frigate DaVici Puzzles H...        496          0   \n",
       "3  Liberty Puzzles Haeckel Hummingbirds Nautilus ...          0        707   \n",
       "4          DaVici Puzzles Diana Zimens City Of Cats           0        700   \n",
       "\n",
       "   pieces_d3  pieces_d4  num_puzzles  \n",
       "0          0          0            2  \n",
       "1        220          0            2  \n",
       "2          0          0            2  \n",
       "3          0          0            2  \n",
       "4          0          0            1  "
      ]
     },
     "execution_count": 12,
     "metadata": {},
     "output_type": "execute_result"
    }
   ],
   "source": [
    "pieces_df = pd.DataFrame(pieces_by_difficulty)\n",
    "pieces_df.head()"
   ]
  },
  {
   "cell_type": "markdown",
   "id": "d041fd25",
   "metadata": {},
   "source": [
    "### Second Feature is counting total number of pieces at pack level"
   ]
  },
  {
   "cell_type": "code",
   "execution_count": 16,
   "id": "3a9dc36f",
   "metadata": {},
   "outputs": [],
   "source": [
    "# making things at pack level\n",
    "df_cleaned['piece_count_pack'] = 0\n",
    "df_cleaned['difficulty_rating_pack'] = 0\n",
    "for i in range(0, len(df_cleaned)):\n",
    "    if df_cleaned['num_puzzles'][i] == 1:\n",
    "        df_cleaned['piece_count_pack'][i] = df_cleaned['piece_count_1'][i]\n",
    "        df_cleaned['difficulty_rating_pack'][i] = df_cleaned['difficulty_rating_1'][i]\n",
    "    else:\n",
    "        df_cleaned['piece_count_pack'][i] = df_cleaned['piece_count_1'][i] + df_cleaned['piece_count_2'][i]\n",
    "        df_cleaned['difficulty_rating_pack'][i] = (df_cleaned['difficulty_rating_1'][i] + df_cleaned['difficulty_rating_2'][i])//2"
   ]
  },
  {
   "cell_type": "markdown",
   "id": "63eeb3e4",
   "metadata": {},
   "source": [
    "### Third feautre is combining difficulty and piece count into a single column values"
   ]
  },
  {
   "cell_type": "code",
   "execution_count": null,
   "id": "a77e024f",
   "metadata": {},
   "outputs": [],
   "source": [
    "# taking code from madalyn's branch\n",
    "pieces_df['w_pieces_diff'] = pieces_df['pieces_d1'] + pieces_df['pieces_d2']*2 + pieces_df['pieces_d3']*3 + pieces_df['pieces_d4']*4\n",
    "\n",
    "# use box cox method to transform weighted pieces by difficulty\n",
    "from sklearn.preprocessing import power_transform \n",
    "pieces_df['w_pieces_diff_transformed'] = power_transform(pieces_df[['w_pieces_diff']], method='box-cox')\n"
   ]
  },
  {
   "cell_type": "code",
   "execution_count": null,
   "id": "577953d2",
   "metadata": {},
   "outputs": [],
   "source": [
    "# creat list of bin names and label names\n",
    "# I just picked an arbitrary number of 20 bins, to group the piece difficulty by, this can be improved on\n",
    "step = (pieces_df['w_pieces_diff_transformed'].max()-pieces_df['w_pieces_diff_transformed'].min())/20\n",
    "bins = np.arange(pieces_df['w_pieces_diff_transformed'].min(), pieces_df['w_pieces_diff_transformed'].max()+step, step)\n",
    "labels = ['bin' + s for s in map(str, list(range(len(bins)-1)))]\n",
    "\n",
    "# label each puzzle by binned piece & difficulty\n",
    "pieces_df['bin_label'] = pd.cut(x = pieces_df['w_pieces_diff_transformed'], bins = bins, labels = labels, include_lowest = True)\n",
    "pieces_df.head()"
   ]
  },
  {
   "cell_type": "code",
   "execution_count": null,
   "id": "aa1a0a14",
   "metadata": {},
   "outputs": [],
   "source": [
    "df_cleaned.shape, pieces_df.shape"
   ]
  },
  {
   "cell_type": "code",
   "execution_count": null,
   "id": "6647347e",
   "metadata": {},
   "outputs": [],
   "source": [
    "df_cleaned.columns"
   ]
  },
  {
   "cell_type": "code",
   "execution_count": null,
   "id": "f870a2d2",
   "metadata": {},
   "outputs": [],
   "source": [
    "concat_df1 = df_cleaned[['pack_name', 'holdtime', 'piece_count_1', 'piece_count_2', 'difficulty_rating_1', \n",
    "                         'difficulty_rating_2',  'brand_1','piece_count_pack', 'difficulty_rating_pack',\n",
    "                         'brand_2', 'num_puzzles']]\n",
    "concat_df2 = pieces_df[['pieces_d1', 'pieces_d2', 'pieces_d3', 'pieces_d4', 'w_pieces_diff_transformed']]"
   ]
  },
  {
   "cell_type": "code",
   "execution_count": null,
   "id": "c22d4667",
   "metadata": {},
   "outputs": [],
   "source": [
    "df_features_combined = pd.concat([concat_df1, concat_df2], axis=1)"
   ]
  },
  {
   "cell_type": "code",
   "execution_count": null,
   "id": "5483f898",
   "metadata": {},
   "outputs": [],
   "source": [
    "# setting order and saving file\n",
    "df_features_combined = df_features_combined[['pack_name', 'piece_count_1', 'piece_count_2', 'difficulty_rating_1', \n",
    "                                             'difficulty_rating_2', 'brand_1', 'brand_2', 'num_puzzles', \n",
    "                                             'pieces_d1', 'pieces_d2', 'pieces_d3', 'pieces_d4','piece_count_pack',\n",
    "                                             'difficulty_rating_pack', 'w_pieces_diff_transformed', 'holdtime']]"
   ]
  },
  {
   "cell_type": "code",
   "execution_count": null,
   "id": "03d45eae",
   "metadata": {},
   "outputs": [],
   "source": [
    "df_features_combined.to_csv('data/df_features_combined.csv', index=False)"
   ]
  }
 ],
 "metadata": {
  "kernelspec": {
   "display_name": "Python 3 (ipykernel)",
   "language": "python",
   "name": "python3"
  },
  "language_info": {
   "codemirror_mode": {
    "name": "ipython",
    "version": 3
   },
   "file_extension": ".py",
   "mimetype": "text/x-python",
   "name": "python",
   "nbconvert_exporter": "python",
   "pygments_lexer": "ipython3",
   "version": "3.9.12"
  }
 },
 "nbformat": 4,
 "nbformat_minor": 5
}
